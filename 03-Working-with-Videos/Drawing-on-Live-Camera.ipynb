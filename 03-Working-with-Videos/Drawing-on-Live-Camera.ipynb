{
 "cells": [
  {
   "cell_type": "code",
   "execution_count": null,
   "metadata": {},
   "outputs": [],
   "source": [
    "import cv2 \n",
    "import numpy as np \n",
    "\n",
    "def update_pts(params, x, y):\n",
    "    global x_init, y_init\n",
    "    params[\"top_left_pt\"] = (min(x_init, x), min(y_init, y))\n",
    "    params[\"bottom_right_pt\"] = (max(x_init, x), max(y_init, y))\n",
    "    img[y_init:y, x_init:x] = 255 - img[y_init:y, x_init:x]\n",
    " \n",
    "def draw_rectangle(event, x, y, flags, params): \n",
    "    global x_init, y_init, drawing\n",
    "    # First click initialize the init rectangle point \n",
    "    if event == cv2.EVENT_LBUTTONDOWN:\n",
    "        drawing = True \n",
    "        x_init, y_init = x, y \n",
    "    # Meanwhile mouse button is pressed, update diagonal rectangle point \n",
    "    elif event == cv2.EVENT_MOUSEMOVE and drawing:\n",
    "        update_pts(params, x, y) \n",
    "    # Once mouse botton is release\n",
    "    elif event == cv2.EVENT_LBUTTONUP: \n",
    "        drawing = False \n",
    "        update_pts(params, x, y) \n",
    " \n",
    "if __name__=='__main__': \n",
    "    drawing = False \n",
    "    event_params = {\"top_left_pt\": (-1, -1), \"bottom_right_pt\": (-1, -1)}\n",
    " \n",
    "    cap = cv2.VideoCapture(0) \n",
    " \n",
    "    # Check if the webcam is opened correctly \n",
    "    if not cap.isOpened(): \n",
    "        raise IOError(\"Cannot open webcam\") \n",
    " \n",
    "    cv2.namedWindow('Webcam')\n",
    "    # Bind draw_rectangle function to every mouse event\n",
    "    cv2.setMouseCallback('Webcam', draw_rectangle, event_params) \n",
    " \n",
    "    while True: \n",
    "        ret, frame = cap.read() \n",
    "        img = cv2.resize(frame, None, fx=0.5, fy=0.5, interpolation=cv2.INTER_AREA) \n",
    "        (x0,y0), (x1,y1) = event_params[\"top_left_pt\"], event_params[\"bottom_right_pt\"]\n",
    "        img[y0:y1, x0:x1] = 255 - img[y0:y1, x0:x1] \n",
    "        cv2.imshow('Webcam', img) \n",
    " \n",
    "        c = cv2.waitKey(1) \n",
    "        if c == 27: \n",
    "            break \n",
    " \n",
    "    cap.release() \n",
    "    cv2.destroyAllWindows() "
   ]
  },
  {
   "cell_type": "code",
   "execution_count": null,
   "metadata": {},
   "outputs": [],
   "source": []
  }
 ],
 "metadata": {
  "kernelspec": {
   "display_name": "Python 3",
   "language": "python",
   "name": "python3"
  },
  "language_info": {
   "codemirror_mode": {
    "name": "ipython",
    "version": 3
   },
   "file_extension": ".py",
   "mimetype": "text/x-python",
   "name": "python",
   "nbconvert_exporter": "python",
   "pygments_lexer": "ipython3",
   "version": "3.7.0"
  }
 },
 "nbformat": 4,
 "nbformat_minor": 2
}
