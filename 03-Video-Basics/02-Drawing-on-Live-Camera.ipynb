{
 "cells": [
  {
   "cell_type": "markdown",
   "metadata": {},
   "source": [
    "<a href=\"https://www.pieriandata.com\"><img src=\"../DATA/Logo.jpg\"></a>\n",
    "\n",
    "<em text-align:center>Copyright Pierian Data Inc.</em>"
   ]
  },
  {
   "cell_type": "markdown",
   "metadata": {},
   "source": [
    "# Drawing on Video\n",
    "\n",
    "Often as we analyze video using techniques like object detection or facial recognition, we'll want to draw an image on the video, like a box around a face.\n",
    "\n",
    "Let's learn the basics of drawing on video with OpenCV!"
   ]
  },
  {
   "cell_type": "code",
   "execution_count": null,
   "metadata": {},
   "outputs": [],
   "source": [
    "import cv2\n",
    "\n",
    "cap = cv2.VideoCapture(0)\n",
    "\n",
    "\n",
    "# Automatically grab width and height from video feed\n",
    "# (returns float which we need to convert to integer for later on!)\n",
    "width = int(cap.get(cv2.CAP_PROP_FRAME_WIDTH))\n",
    "height = int(cap.get(cv2.CAP_PROP_FRAME_HEIGHT))\n",
    "\n",
    "# We're using // here because in Python // allows for int classical division, \n",
    "# because we can't pass a float to the cv2.rectangle function\n",
    "\n",
    "# Coordinates for Rectangle\n",
    "x = width//2\n",
    "y = height//2\n",
    "\n",
    "# Width and height\n",
    "w = width//4\n",
    "h = height//4\n",
    "\n",
    "while True:\n",
    "    # Capture frame-by-frame\n",
    "    ret, frame = cap.read()\n",
    "\n",
    "    # Draw a rectangle on stream\n",
    "    \n",
    "    cv2.rectangle(frame, (x, y), (x+w, y+h), color=(0,0,255),thickness= 4)\n",
    "\n",
    "    # Display the resulting frame\n",
    "    cv2.imshow('frame', frame)\n",
    "\n",
    "   # This command let's us quit with the \"q\" button on a keyboard.\n",
    "    # Simply pressing X on the window won't work!\n",
    "    if cv2.waitKey(1) & 0xFF == ord('q'):\n",
    "        break\n",
    "\n",
    "# When everything is done, release the capture\n",
    "cap.release()\n",
    "cv2.destroyAllWindows()"
   ]
  },
  {
   "cell_type": "markdown",
   "metadata": {},
   "source": [
    "--------"
   ]
  },
  {
   "cell_type": "markdown",
   "metadata": {},
   "source": [
    "## Interactive Drawing on Video\n",
    "\n",
    "We won't really use this as often, but let's go through it just in case!"
   ]
  },
  {
   "cell_type": "code",
   "execution_count": 1,
   "metadata": {},
   "outputs": [],
   "source": [
    "import cv2\n",
    "import numpy as np"
   ]
  },
  {
   "cell_type": "code",
   "execution_count": 7,
   "metadata": {},
   "outputs": [],
   "source": [
    "# Create a function based on a CV2 Event (Left button click)\n",
    "\n",
    "# mouse callback function\n",
    "def draw_rectangle(event,x,y,flags,param):\n",
    "\n",
    "    global rect,topLeft,botRight\n",
    "\n",
    "    # get mouse click\n",
    "    if event == cv2.EVENT_LBUTTONDOWN:\n",
    "\n",
    "        if topLeft == True and botRight == True:\n",
    "            topLeft = False\n",
    "            botRight = False\n",
    "            rect = (0, 0, 0, 0)\n",
    "\n",
    "        if topLeft == False:\n",
    "            rect = (x, y, 0, 0)\n",
    "            topLeft = True\n",
    "            \n",
    "        elif botRight == False:\n",
    "            rect = (rect[0], rect[1], x, y)\n",
    "            botRight = True\n",
    "\n",
    "        \n",
    "# Haven't drawn anything yet!\n",
    "rect = (0,0,0,0)\n",
    "topLeft = False\n",
    "botRight = False\n",
    "\n",
    "cap = cv2.VideoCapture(0) \n",
    "\n",
    "# Create a named window for connections\n",
    "cv2.namedWindow('Test')\n",
    "\n",
    "# Bind draw_rectangle function to mouse cliks\n",
    "cv2.setMouseCallback('Test', draw_rectangle) \n",
    "\n",
    "\n",
    "while True:\n",
    "    # Capture frame-by-frame\n",
    "    ret, frame = cap.read()\n",
    "\n",
    "    if topLeft==True:\n",
    "        cv2.circle(frame, center=(rect[0], rect[1]), radius=5, color=(0,0,255), thickness=-1)\n",
    "        \n",
    "    #drawing rectangle\n",
    "    if topLeft == True and botRight == True:\n",
    "        cv2.rectangle(frame, (rect[0], rect[1]), (rect[2], rect[3]), (0, 0, 255), 2)\n",
    "        \n",
    "        \n",
    "    # Display the resulting frame\n",
    "    cv2.imshow('Test', frame)\n",
    "\n",
    "    # This command let's us quit with the \"q\" button on a keyboard.\n",
    "    # Simply pressing X on the window won't work!\n",
    "    if cv2.waitKey(1) & 0xFF == ord('q'):\n",
    "        break\n",
    "\n",
    "# When everything is done, release the capture\n",
    "cap.release()\n",
    "cv2.destroyAllWindows()"
   ]
  }
 ],
 "metadata": {
  "kernelspec": {
   "display_name": "Python 3",
   "language": "python",
   "name": "python3"
  },
  "language_info": {
   "codemirror_mode": {
    "name": "ipython",
    "version": 3
   },
   "file_extension": ".py",
   "mimetype": "text/x-python",
   "name": "python",
   "nbconvert_exporter": "python",
   "pygments_lexer": "ipython3",
   "version": "3.6.6"
  }
 },
 "nbformat": 4,
 "nbformat_minor": 2
}
