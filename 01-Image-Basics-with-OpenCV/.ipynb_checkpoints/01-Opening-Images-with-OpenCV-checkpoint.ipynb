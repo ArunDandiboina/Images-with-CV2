{
 "cells": [
  {
   "cell_type": "markdown",
   "metadata": {},
   "source": [
    "<img src=\"../DATA/Logo.jpg\">\n",
    "\n",
    "# Opening Image Files with OpenCV"
   ]
  },
  {
   "cell_type": "markdown",
   "metadata": {},
   "source": [
    "OpenCV can open images in separate outside windows when you run a .py script. Keep in mind, at the moment, this often doesn't work with the iPython kernel in a Jupyter notebook for some complex reasons. (It's an open issue on the github page since solutions stil vary drastically depending on the user's OS).\n",
    "\n",
    "Let's explore how we can use Open CV to open files in a separate window. Typically you would run these sort of commands as a script! So we've also included a .py script that goes along with this lecture."
   ]
  },
  {
   "cell_type": "code",
   "execution_count": 1,
   "metadata": {},
   "outputs": [],
   "source": [
    "import numpy as np\n",
    "import cv2"
   ]
  },
  {
   "cell_type": "code",
   "execution_count": null,
   "metadata": {},
   "outputs": [],
   "source": [
    "cv2.imshow('window_name',img)\n",
    "cv2.waitKey(1)\n",
    "cv2.destroyAllWindows()\n",
    "cv2.waitKey(1)"
   ]
  },
  {
   "cell_type": "code",
   "execution_count": null,
   "metadata": {},
   "outputs": [],
   "source": [
    "img = cv2.imread('../DATA/00-puppy.jpg',cv2.IMREAD_GRAYSCALE)\n",
    "cv2.imshow('window_name',img)\n",
    "cv2.waitKey()"
   ]
  }
 ],
 "metadata": {
  "kernelspec": {
   "display_name": "Python 3",
   "language": "python",
   "name": "python3"
  },
  "language_info": {
   "codemirror_mode": {
    "name": "ipython",
    "version": 3
   },
   "file_extension": ".py",
   "mimetype": "text/x-python",
   "name": "python",
   "nbconvert_exporter": "python",
   "pygments_lexer": "ipython3",
   "version": "3.6.6"
  }
 },
 "nbformat": 4,
 "nbformat_minor": 2
}
