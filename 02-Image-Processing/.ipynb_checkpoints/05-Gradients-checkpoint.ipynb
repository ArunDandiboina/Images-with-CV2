{
 "cells": [
  {
   "cell_type": "markdown",
   "metadata": {},
   "source": [
    "* Gradients\n",
    "    * https://www.safaribooksonline.com/library/view/opencv-3-computer/9781788474443/4f1082ff-7935-40a3-9a59-167dd8ce93aa.xhtml\n",
    "    * https://www.safaribooksonline.com/library/view/opencv-3-computer/9781788474443/9f69ce60-5d91-4b0b-86be-d7233dfc2b4d.xhtml\n",
    "    * https://docs.opencv.org/3.0-beta/doc/py_tutorials/py_imgproc/py_gradients/py_gradients.html#gradients"
   ]
  },
  {
   "cell_type": "code",
   "execution_count": null,
   "metadata": {},
   "outputs": [],
   "source": []
  }
 ],
 "metadata": {
  "kernelspec": {
   "display_name": "Python 3",
   "language": "python",
   "name": "python3"
  },
  "language_info": {
   "codemirror_mode": {
    "name": "ipython",
    "version": 3
   },
   "file_extension": ".py",
   "mimetype": "text/x-python",
   "name": "python",
   "nbconvert_exporter": "python",
   "pygments_lexer": "ipython3",
   "version": "3.6.6"
  }
 },
 "nbformat": 4,
 "nbformat_minor": 2
}
