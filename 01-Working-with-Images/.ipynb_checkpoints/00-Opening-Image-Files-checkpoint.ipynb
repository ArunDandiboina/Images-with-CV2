{
 "cells": [
  {
   "cell_type": "markdown",
   "metadata": {},
   "source": [
    "<img src=\"../DATA/Logo.jpg\">\n",
    "# Opening Image Files"
   ]
  },
  {
   "cell_type": "code",
   "execution_count": 1,
   "metadata": {},
   "outputs": [],
   "source": [
    "import numpy as np\n",
    "import cv2"
   ]
  },
  {
   "cell_type": "markdown",
   "metadata": {
    "collapsed": true
   },
   "source": [
    "#### WARNING! Make sure to provide the correct path like we do in our notebooks! ALWAYS confirm that your file path is correct before posting a question on this."
   ]
  },
  {
   "cell_type": "code",
   "execution_count": 2,
   "metadata": {},
   "outputs": [],
   "source": [
    "# WONT GIVE ERROR! GIVES NONE INSTEAD!!!\n",
    "img = cv2.imread(\"some/wrong/path.jpg\")"
   ]
  },
  {
   "cell_type": "code",
   "execution_count": 3,
   "metadata": {},
   "outputs": [
    {
     "name": "stdout",
     "output_type": "stream",
     "text": [
      "None\n"
     ]
    }
   ],
   "source": [
    "# UH OH!!\n",
    "print(img)"
   ]
  },
  {
   "cell_type": "code",
   "execution_count": 4,
   "metadata": {},
   "outputs": [],
   "source": [
    "img = cv2.imread('../DATA/00-puppy.jpg')"
   ]
  },
  {
   "cell_type": "code",
   "execution_count": 5,
   "metadata": {},
   "outputs": [
    {
     "data": {
      "text/plain": [
       "array([[[78, 81, 95],\n",
       "        [80, 83, 97],\n",
       "        [81, 84, 98],\n",
       "        ...,\n",
       "        [22, 27, 25],\n",
       "        [22, 27, 25],\n",
       "        [22, 27, 25]],\n",
       "\n",
       "       [[78, 81, 95],\n",
       "        [79, 82, 96],\n",
       "        [79, 82, 96],\n",
       "        ...,\n",
       "        [22, 27, 25],\n",
       "        [22, 27, 25],\n",
       "        [22, 27, 25]],\n",
       "\n",
       "       [[78, 81, 95],\n",
       "        [77, 80, 94],\n",
       "        [77, 80, 94],\n",
       "        ...,\n",
       "        [22, 27, 25],\n",
       "        [22, 27, 25],\n",
       "        [22, 27, 25]],\n",
       "\n",
       "       ...,\n",
       "\n",
       "       [[20, 29, 19],\n",
       "        [21, 30, 20],\n",
       "        [21, 30, 20],\n",
       "        ...,\n",
       "        [22, 30, 23],\n",
       "        [23, 31, 24],\n",
       "        [23, 31, 24]],\n",
       "\n",
       "       [[21, 30, 20],\n",
       "        [21, 30, 20],\n",
       "        [20, 29, 19],\n",
       "        ...,\n",
       "        [22, 30, 23],\n",
       "        [23, 31, 24],\n",
       "        [23, 31, 24]],\n",
       "\n",
       "       [[21, 30, 20],\n",
       "        [20, 29, 19],\n",
       "        [20, 29, 19],\n",
       "        ...,\n",
       "        [22, 30, 23],\n",
       "        [23, 31, 24],\n",
       "        [23, 31, 24]]], dtype=uint8)"
      ]
     },
     "execution_count": 5,
     "metadata": {},
     "output_type": "execute_result"
    }
   ],
   "source": [
    "img"
   ]
  },
  {
   "cell_type": "code",
   "execution_count": 6,
   "metadata": {},
   "outputs": [
    {
     "data": {
      "text/plain": [
       "-1"
      ]
     },
     "execution_count": 6,
     "metadata": {},
     "output_type": "execute_result"
    }
   ],
   "source": [
    "cv2.imshow('window_name',img)\n",
    "cv2.waitKey()"
   ]
  },
  {
   "cell_type": "code",
   "execution_count": 25,
   "metadata": {},
   "outputs": [
    {
     "data": {
      "text/plain": [
       "-1"
      ]
     },
     "execution_count": 25,
     "metadata": {},
     "output_type": "execute_result"
    }
   ],
   "source": [
    "#grayscale\n",
    "img = cv2.imread('../DATA/00-puppy.jpg',cv2.IMREAD_GRAYSCALE)\n",
    "cv2.imshow('window_name',img)\n",
    "cv2.waitKey()"
   ]
  },
  {
   "cell_type": "markdown",
   "metadata": {},
   "source": [
    "## Resize Images"
   ]
  },
  {
   "cell_type": "code",
   "execution_count": 35,
   "metadata": {},
   "outputs": [],
   "source": [
    "img = cv2.imread('../DATA/00-puppy.jpg')"
   ]
  },
  {
   "cell_type": "code",
   "execution_count": 36,
   "metadata": {},
   "outputs": [
    {
     "data": {
      "text/plain": [
       "(1300, 1950, 3)"
      ]
     },
     "execution_count": 36,
     "metadata": {},
     "output_type": "execute_result"
    }
   ],
   "source": [
    "img.shape\n",
    "# width, height, color channels"
   ]
  },
  {
   "cell_type": "code",
   "execution_count": 37,
   "metadata": {},
   "outputs": [],
   "source": [
    "new_img =cv2.resize(img,(1300,275))"
   ]
  },
  {
   "cell_type": "code",
   "execution_count": 38,
   "metadata": {},
   "outputs": [
    {
     "data": {
      "text/plain": [
       "-1"
      ]
     },
     "execution_count": 38,
     "metadata": {},
     "output_type": "execute_result"
    }
   ],
   "source": [
    "cv2.imshow('window_name',new_img)\n",
    "cv2.waitKey()"
   ]
  },
  {
   "cell_type": "markdown",
   "metadata": {},
   "source": [
    "### By ratio"
   ]
  },
  {
   "cell_type": "code",
   "execution_count": 39,
   "metadata": {},
   "outputs": [],
   "source": [
    "w_ratio = 0.5\n",
    "h_ratio = 0.5"
   ]
  },
  {
   "cell_type": "code",
   "execution_count": 41,
   "metadata": {},
   "outputs": [],
   "source": [
    "new_img =cv2.resize(img,(0,0),img,w_ratio,h_ratio)"
   ]
  },
  {
   "cell_type": "code",
   "execution_count": 42,
   "metadata": {},
   "outputs": [
    {
     "data": {
      "text/plain": [
       "-1"
      ]
     },
     "execution_count": 42,
     "metadata": {},
     "output_type": "execute_result"
    }
   ],
   "source": [
    "cv2.imshow('window_name',new_img)\n",
    "cv2.waitKey()"
   ]
  },
  {
   "cell_type": "markdown",
   "metadata": {},
   "source": [
    "### Flipping Images"
   ]
  },
  {
   "cell_type": "code",
   "execution_count": 43,
   "metadata": {},
   "outputs": [
    {
     "data": {
      "text/plain": [
       "-1"
      ]
     },
     "execution_count": 43,
     "metadata": {},
     "output_type": "execute_result"
    }
   ],
   "source": [
    "# Along central x axis\n",
    "new_img = cv2.flip(img,0)\n",
    "cv2.imshow('window_name',new_img)\n",
    "cv2.waitKey()"
   ]
  },
  {
   "cell_type": "code",
   "execution_count": 44,
   "metadata": {},
   "outputs": [
    {
     "data": {
      "text/plain": [
       "-1"
      ]
     },
     "execution_count": 44,
     "metadata": {},
     "output_type": "execute_result"
    }
   ],
   "source": [
    "# Along central y axis\n",
    "new_img = cv2.flip(img,1)\n",
    "cv2.imshow('window_name',new_img)\n",
    "cv2.waitKey()"
   ]
  },
  {
   "cell_type": "code",
   "execution_count": 45,
   "metadata": {},
   "outputs": [
    {
     "data": {
      "text/plain": [
       "-1"
      ]
     },
     "execution_count": 45,
     "metadata": {},
     "output_type": "execute_result"
    }
   ],
   "source": [
    "# Along both axis\n",
    "new_img = cv2.flip(img,-1)\n",
    "cv2.imshow('window_name',new_img)\n",
    "cv2.waitKey()"
   ]
  },
  {
   "cell_type": "markdown",
   "metadata": {},
   "source": [
    "--------"
   ]
  }
 ],
 "metadata": {
  "kernelspec": {
   "display_name": "Python 3",
   "language": "python",
   "name": "python3"
  },
  "language_info": {
   "codemirror_mode": {
    "name": "ipython",
    "version": 3
   },
   "file_extension": ".py",
   "mimetype": "text/x-python",
   "name": "python",
   "nbconvert_exporter": "python",
   "pygments_lexer": "ipython3",
   "version": "3.7.0"
  }
 },
 "nbformat": 4,
 "nbformat_minor": 2
}
